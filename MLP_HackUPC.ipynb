{
  "cells": [
    {
      "cell_type": "markdown",
      "metadata": {
        "id": "view-in-github",
        "colab_type": "text"
      },
      "source": [
        "<a href=\"https://colab.research.google.com/github/Neilus03/Restb.ai_challenge-HackUPC2023/blob/main/MLP_HackUPC.ipynb\" target=\"_parent\"><img src=\"https://colab.research.google.com/assets/colab-badge.svg\" alt=\"Open In Colab\"/></a>"
      ]
    },
    {
      "cell_type": "code",
      "execution_count": null,
      "metadata": {
        "id": "jG2vZJllWqsz"
      },
      "outputs": [],
      "source": [
        "import json\n",
        "import numpy as np\n",
        "import pickle\n",
        "import pandas as pd\n",
        "import torch\n",
        "import torch.nn as nn\n",
        "import torch.optim as optim\n",
        "from torch.utils.data import Dataset, DataLoader\n",
        "from google.colab import drive\n",
        "import matplotlib.pyplot as plt"
      ]
    },
    {
      "cell_type": "code",
      "execution_count": null,
      "metadata": {
        "id": "TVewzlbmxBhs"
      },
      "outputs": [],
      "source": [
        "# If this cell fails you need to change the runtime of your colab notebook to GPU\n",
        "# Go to Runtime -> Change Runtime Type and select GPU\n",
        "assert torch.cuda.is_available(), \"GPU is not enabled\"\n",
        "\n",
        "# use gpu if available\n",
        "device = torch.device(\"cuda:0\" if torch.cuda.is_available() else \"cpu\")"
      ]
    },
    {
      "cell_type": "code",
      "execution_count": null,
      "metadata": {
        "colab": {
          "base_uri": "https://localhost:8080/"
        },
        "id": "z3fwjEbkWrj_",
        "outputId": "bc833d72-fdc1-4525-b3eb-bbaa7a9916b3"
      },
      "outputs": [
        {
          "output_type": "stream",
          "name": "stdout",
          "text": [
            "Mounted at /content/drive\n"
          ]
        }
      ],
      "source": [
        "drive.mount('/content/drive')"
      ]
    },
    {
      "cell_type": "code",
      "execution_count": null,
      "metadata": {
        "id": "O47tajcbWz3t"
      },
      "outputs": [],
      "source": [
        "Big_Data = pd.read_pickle(\"/content/drive/MyDrive/hackupc2023_restbai.pkl\")\n",
        "#Big_Data = pd.read_json(\"/content/hackupc2023_restbai__dataset_sample.json\")"
      ]
    },
    {
      "cell_type": "code",
      "execution_count": null,
      "metadata": {
        "id": "Hdzv6fWqfGWZ"
      },
      "outputs": [],
      "source": [
        "Big_Data = Big_Data.T"
      ]
    },
    {
      "cell_type": "code",
      "execution_count": null,
      "metadata": {
        "id": "wcgA6Ar1feqa"
      },
      "outputs": [],
      "source": [
        "city2number         = {key: indice for indice, key in enumerate(Big_Data[\"city\"].unique())}\n",
        "neighborhood2number = {key: indice for indice, key in enumerate(Big_Data[\"neighborhood\"].unique())}\n",
        "region2number       = {key: indice for indice, key in enumerate(Big_Data[\"region\"].unique())}"
      ]
    },
    {
      "cell_type": "code",
      "execution_count": null,
      "metadata": {
        "id": "XITH9NKAfdZf"
      },
      "outputs": [],
      "source": [
        "Big_Data['city']         = Big_Data['city'].map(city2number)\n",
        "Big_Data['neighborhood'] = Big_Data['neighborhood'].map(neighborhood2number)\n",
        "Big_Data['region']       = Big_Data['region'].map(region2number)"
      ]
    },
    {
      "cell_type": "code",
      "execution_count": null,
      "metadata": {
        "id": "deFvXfJfk8bo"
      },
      "outputs": [],
      "source": [
        "class DatasetFromPD(Dataset):\n",
        "    def __init__(self, df):\n",
        "        self.Dataset = df.drop(columns = [\"summary\", \"images\", \"image_data\", \"property_type\", \"num_images\"])\n",
        "        self.Dataset = self.Dataset.fillna(0)\n",
        "\n",
        "        self.Dataset_Normalize = (self.Dataset - self.Dataset.mean()) / self.Dataset.std()\n",
        "\n",
        "        self.features = torch.tensor(self.Dataset_Normalize.drop(columns = [\"price\"]).values, dtype=torch.float32)\n",
        "        self.target   = torch.tensor(self.Dataset_Normalize['price'].values, dtype=torch.float32)        \n",
        "\n",
        "    def __len__(self):\n",
        "        return len(self.features)   #Numero de filas del dataset\n",
        "\n",
        "    def get_mean(self):\n",
        "        return self.Dataset.mean()\n",
        "\n",
        "    def get_std(self):\n",
        "        return self.Dataset.std()\n",
        "\n",
        "    def __getitem__(self, idx):\n",
        "        feature = self.features[idx]\n",
        "        target  = self.target[idx]\n",
        "        return feature, target"
      ]
    },
    {
      "cell_type": "code",
      "execution_count": null,
      "metadata": {
        "id": "2vfaOVCGuWXn"
      },
      "outputs": [],
      "source": [
        "class MLP(nn.Module):\n",
        "    def __init__(self, input_size, hidden_size, output_size):\n",
        "        super(MLP, self).__init__()\n",
        "        self.input_size = input_size\n",
        "        self.network = nn.Sequential(\n",
        "            nn.Linear(input_size, hidden_size),\n",
        "            nn.ReLU(),\n",
        "            nn.Linear(hidden_size, hidden_size * 2),\n",
        "            nn.ReLU(),\n",
        "            nn.Linear(hidden_size * 2, hidden_size * 2),\n",
        "            nn.ReLU(),\n",
        "            nn.Linear(hidden_size * 2, hidden_size),\n",
        "            nn.ReLU(),\n",
        "            nn.Linear(hidden_size, hidden_size // 2),\n",
        "            nn.ReLU(),\n",
        "            nn.Linear(hidden_size // 2, output_size))\n",
        "\n",
        "    def forward(self, x):\n",
        "        x = x.view(-1, self.input_size)\n",
        "        return self.network(x)"
      ]
    },
    {
      "cell_type": "code",
      "execution_count": null,
      "metadata": {
        "id": "dOdbqYR711ca"
      },
      "outputs": [],
      "source": [
        "from sklearn.model_selection import train_test_split\n",
        "\n",
        "# df is your DataFrame\n",
        "train_data, valid_data = train_test_split(Big_Data, test_size=0.2, random_state=42)\n",
        "\n",
        "train_dataset = DatasetFromPD(train_data)\n",
        "val_dataset   = DatasetFromPD(valid_data)"
      ]
    },
    {
      "cell_type": "code",
      "execution_count": null,
      "metadata": {
        "id": "cayoDFl9kMiY"
      },
      "outputs": [],
      "source": [
        "# Create the Torch DataLoader\n",
        "batch_size = 264\n",
        "\n",
        "train_loader = DataLoader(train_dataset, shuffle=True, batch_size=batch_size, drop_last=True)\n",
        "val_loader   = DataLoader(val_dataset,   shuffle=False, batch_size=batch_size,  drop_last=True)"
      ]
    },
    {
      "cell_type": "code",
      "execution_count": null,
      "metadata": {
        "id": "O2pDF8BumklC"
      },
      "outputs": [],
      "source": [
        "input_dim = 6\n",
        "hidden_size = 512\n",
        "output_dim = 1\n",
        "\n",
        "MLP_model = MLP(input_dim, hidden_size, output_dim).to(device)"
      ]
    },
    {
      "cell_type": "code",
      "source": [
        "import math\n",
        "def initialize_parameters(model):\n",
        "    for name, w in model.named_parameters():\n",
        "        if \"weight\" in name:\n",
        "            nn.init.xavier_uniform_(w, gain = math.sqrt(2)) #Using xavier also known as Glorot initialization.\n",
        "            \n",
        "        if \"bias\" in name:\n",
        "            nn.init.zeros_(w)"
      ],
      "metadata": {
        "id": "SFvFhf9AXUHR"
      },
      "execution_count": null,
      "outputs": []
    },
    {
      "cell_type": "code",
      "execution_count": null,
      "metadata": {
        "id": "vnrbEciHxe-0"
      },
      "outputs": [],
      "source": [
        "learning_rate = 1e-3\n",
        "lambda_l2 = 1e-5\n",
        "\n",
        "optimizer = torch.optim.SGD(MLP_model.parameters(), lr=learning_rate, momentum=0.9, weight_decay=lambda_l2) # built-in L2\n",
        "criterion = torch.nn.MSELoss() \n",
        "initialize_parameters(MLP_model)"
      ]
    },
    {
      "cell_type": "code",
      "execution_count": null,
      "metadata": {
        "id": "G2vfciECxTUG"
      },
      "outputs": [],
      "source": [
        "def train(epoch, criterion, model, optimizer, loader):\n",
        "    \n",
        "    total_loss = 0.0\n",
        "\n",
        "    model.train()\n",
        "\n",
        "    for batch_idx, (data, target) in enumerate(loader):\n",
        "      \n",
        "        optimizer.zero_grad()\n",
        "\n",
        "        data, target = data.to(device), target.to(device)\n",
        "\n",
        "        output = model(data)\n",
        "        loss = criterion(output, target)\n",
        "        loss.backward()\n",
        "        optimizer.step()\n",
        "        \n",
        "        # print loss every N iterations\n",
        "        if batch_idx % 100 == 0:\n",
        "            print('Train Epoch: {} [{}/{} ({:.0f}%)]\\tLoss: {:.6f}'.format(\n",
        "                epoch, batch_idx * len(data), len(loader.dataset),\n",
        "                100. * batch_idx / len(loader), loss.item()))\n",
        "\n",
        "        total_loss += loss.item() \n",
        "\n",
        "    return total_loss / len(loader.dataset)\n"
      ]
    },
    {
      "cell_type": "code",
      "execution_count": null,
      "metadata": {
        "id": "cP-NiVW703dY"
      },
      "outputs": [],
      "source": [
        "@torch.no_grad()  # prevent this function from computing gradients see https://pytorch.org/docs/stable/generated/torch.no_grad.html\n",
        "def validate(criterion, model, loader):\n",
        "\n",
        "    val_loss = 0\n",
        "\n",
        "    model.eval()\n",
        "\n",
        "    for data, target in loader:\n",
        "\n",
        "        data, target = data.to(device), target.to(device)\n",
        "        \n",
        "        output = model(data)\n",
        "        loss = criterion(output, target)\n",
        "        val_loss += loss.item()\n",
        "\n",
        "    val_loss /= len(loader.dataset)\n",
        "    print('\\nValidation set: Average loss: {:.4f}\\n'.format(val_loss))\n",
        "\n",
        "    return val_loss\n"
      ]
    },
    {
      "cell_type": "code",
      "execution_count": null,
      "metadata": {
        "id": "NE0Wv5m40thq"
      },
      "outputs": [],
      "source": [
        "losses = {\"train\": [], \"val\": []}\n",
        "for epoch in range(30):\n",
        "\n",
        "    train_loss = train(epoch, criterion, MLP_model, optimizer, train_loader)\n",
        "    val_loss = validate(criterion, MLP_model, val_loader)\n",
        "    losses[\"train\"].append(train_loss)\n",
        "    losses[\"val\"].append(val_loss)\n",
        "\n",
        "    plt.plot(losses[\"train\"], label=\"training loss\")\n",
        "    plt.plot(losses[\"val\"], label=\"validation loss\")\n",
        "\n",
        "    plt.legend()\n",
        "    plt.pause(0.000001)\n",
        "    plt.show()"
      ]
    },
    {
      "cell_type": "code",
      "source": [
        "def check_images_prices(df, model):\n",
        "  samples = df.sample(264)\n",
        "  samples_string = samples[[\"price\", \"summary\", \"images\", \"image_data\", \"property_type\", \"num_images\"]]\n",
        "  samples_int    = samples.drop(columns = [\"summary\", \"images\", \"image_data\", \"property_type\", \"num_images\"])\n",
        "\n",
        "  samples_int_std  = samples_int.std()\n",
        "  samples_int_mean = samples_int.mean()\n",
        "\n",
        "\n",
        "  normalized_samples = (samples_int - samples_int_mean) / samples_int_std\n",
        "  normalized_samples = normalized_samples.drop(columns = [\"price\"]).values.astype(np.float32)\n",
        "  normalized_samples = torch.tensor(normalized_samples, dtype = torch.float32).to(device)\n",
        "\n",
        "  predicted_normalized = model(normalized_samples).cpu()\n",
        "  predicted_denormalized = predicted_normalized * torch.tensor(samples_int_std.price, dtype=torch.float32) + torch.tensor(samples_int_mean.price, dtype=torch.float32)\n",
        "  truth_values = torch.tensor(samples_string[\"price\"].values.astype(np.float32), dtype = torch.float32)\n",
        "\n",
        "  return predicted_denormalized.squeeze(), truth_values, samples_string[\"images\"]\n",
        "\n",
        "predicted_denormalized, truth_values, images = check_images_prices(Big_Data, MLP_model)"
      ],
      "metadata": {
        "id": "r9BRbIhHBN0k"
      },
      "execution_count": null,
      "outputs": []
    },
    {
      "cell_type": "code",
      "source": [
        "predicted_denormalized, truth_values = predicted_denormalized.int().detach().numpy(), truth_values.int().detach().numpy()\n",
        "difference_predicted_ground_truth = predicted_denormalized - truth_values"
      ],
      "metadata": {
        "id": "ozpYqAMAXyEp"
      },
      "execution_count": null,
      "outputs": []
    },
    {
      "cell_type": "code",
      "source": [
        "df = pd.DataFrame({\n",
        "    'Predicted Value': predicted_denormalized,\n",
        "    'Correct   Value': truth_values,\n",
        "    'image': images,\n",
        "    'difference': abs(difference_predicted_ground_truth)\n",
        "})"
      ],
      "metadata": {
        "id": "M4-aUfU_YNUN"
      },
      "execution_count": null,
      "outputs": []
    },
    {
      "cell_type": "code",
      "source": [
        "df"
      ],
      "metadata": {
        "colab": {
          "base_uri": "https://localhost:8080/",
          "height": 423
        },
        "id": "MdzGRed_Yksa",
        "outputId": "d50af695-e1a2-45a8-c5d1-83e6a88d6ed3"
      },
      "execution_count": null,
      "outputs": [
        {
          "output_type": "execute_result",
          "data": {
            "text/plain": [
              "        Predicted Value  Correct   Value  \\\n",
              "34244            248281            43000   \n",
              "132981           245173           340000   \n",
              "127720           241726            69900   \n",
              "628286           245304           195000   \n",
              "515141           245043           135000   \n",
              "...                 ...              ...   \n",
              "268124           245436            62000   \n",
              "661781           244938           375000   \n",
              "487453           246168           169000   \n",
              "799135           242465            99000   \n",
              "598973           244618            90000   \n",
              "\n",
              "                                                    image  difference  \n",
              "34244   [https://restb-hackathon.s3.amazonaws.com/real...      205281  \n",
              "132981  [https://restb-hackathon.s3.amazonaws.com/real...       94827  \n",
              "127720  [https://restb-hackathon.s3.amazonaws.com/real...      171826  \n",
              "628286  [https://restb-hackathon.s3.amazonaws.com/real...       50304  \n",
              "515141  [https://restb-hackathon.s3.amazonaws.com/real...      110043  \n",
              "...                                                   ...         ...  \n",
              "268124  [https://restb-hackathon.s3.amazonaws.com/real...      183436  \n",
              "661781  [https://restb-hackathon.s3.amazonaws.com/real...      130062  \n",
              "487453  [https://restb-hackathon.s3.amazonaws.com/real...       77168  \n",
              "799135  [https://restb-hackathon.s3.amazonaws.com/real...      143465  \n",
              "598973  [https://restb-hackathon.s3.amazonaws.com/real...      154618  \n",
              "\n",
              "[264 rows x 4 columns]"
            ],
            "text/html": [
              "\n",
              "  <div id=\"df-f8dfbf27-906f-4c29-99f8-d83330f8e5f9\">\n",
              "    <div class=\"colab-df-container\">\n",
              "      <div>\n",
              "<style scoped>\n",
              "    .dataframe tbody tr th:only-of-type {\n",
              "        vertical-align: middle;\n",
              "    }\n",
              "\n",
              "    .dataframe tbody tr th {\n",
              "        vertical-align: top;\n",
              "    }\n",
              "\n",
              "    .dataframe thead th {\n",
              "        text-align: right;\n",
              "    }\n",
              "</style>\n",
              "<table border=\"1\" class=\"dataframe\">\n",
              "  <thead>\n",
              "    <tr style=\"text-align: right;\">\n",
              "      <th></th>\n",
              "      <th>Predicted Value</th>\n",
              "      <th>Correct   Value</th>\n",
              "      <th>image</th>\n",
              "      <th>difference</th>\n",
              "    </tr>\n",
              "  </thead>\n",
              "  <tbody>\n",
              "    <tr>\n",
              "      <th>34244</th>\n",
              "      <td>248281</td>\n",
              "      <td>43000</td>\n",
              "      <td>[https://restb-hackathon.s3.amazonaws.com/real...</td>\n",
              "      <td>205281</td>\n",
              "    </tr>\n",
              "    <tr>\n",
              "      <th>132981</th>\n",
              "      <td>245173</td>\n",
              "      <td>340000</td>\n",
              "      <td>[https://restb-hackathon.s3.amazonaws.com/real...</td>\n",
              "      <td>94827</td>\n",
              "    </tr>\n",
              "    <tr>\n",
              "      <th>127720</th>\n",
              "      <td>241726</td>\n",
              "      <td>69900</td>\n",
              "      <td>[https://restb-hackathon.s3.amazonaws.com/real...</td>\n",
              "      <td>171826</td>\n",
              "    </tr>\n",
              "    <tr>\n",
              "      <th>628286</th>\n",
              "      <td>245304</td>\n",
              "      <td>195000</td>\n",
              "      <td>[https://restb-hackathon.s3.amazonaws.com/real...</td>\n",
              "      <td>50304</td>\n",
              "    </tr>\n",
              "    <tr>\n",
              "      <th>515141</th>\n",
              "      <td>245043</td>\n",
              "      <td>135000</td>\n",
              "      <td>[https://restb-hackathon.s3.amazonaws.com/real...</td>\n",
              "      <td>110043</td>\n",
              "    </tr>\n",
              "    <tr>\n",
              "      <th>...</th>\n",
              "      <td>...</td>\n",
              "      <td>...</td>\n",
              "      <td>...</td>\n",
              "      <td>...</td>\n",
              "    </tr>\n",
              "    <tr>\n",
              "      <th>268124</th>\n",
              "      <td>245436</td>\n",
              "      <td>62000</td>\n",
              "      <td>[https://restb-hackathon.s3.amazonaws.com/real...</td>\n",
              "      <td>183436</td>\n",
              "    </tr>\n",
              "    <tr>\n",
              "      <th>661781</th>\n",
              "      <td>244938</td>\n",
              "      <td>375000</td>\n",
              "      <td>[https://restb-hackathon.s3.amazonaws.com/real...</td>\n",
              "      <td>130062</td>\n",
              "    </tr>\n",
              "    <tr>\n",
              "      <th>487453</th>\n",
              "      <td>246168</td>\n",
              "      <td>169000</td>\n",
              "      <td>[https://restb-hackathon.s3.amazonaws.com/real...</td>\n",
              "      <td>77168</td>\n",
              "    </tr>\n",
              "    <tr>\n",
              "      <th>799135</th>\n",
              "      <td>242465</td>\n",
              "      <td>99000</td>\n",
              "      <td>[https://restb-hackathon.s3.amazonaws.com/real...</td>\n",
              "      <td>143465</td>\n",
              "    </tr>\n",
              "    <tr>\n",
              "      <th>598973</th>\n",
              "      <td>244618</td>\n",
              "      <td>90000</td>\n",
              "      <td>[https://restb-hackathon.s3.amazonaws.com/real...</td>\n",
              "      <td>154618</td>\n",
              "    </tr>\n",
              "  </tbody>\n",
              "</table>\n",
              "<p>264 rows × 4 columns</p>\n",
              "</div>\n",
              "      <button class=\"colab-df-convert\" onclick=\"convertToInteractive('df-f8dfbf27-906f-4c29-99f8-d83330f8e5f9')\"\n",
              "              title=\"Convert this dataframe to an interactive table.\"\n",
              "              style=\"display:none;\">\n",
              "        \n",
              "  <svg xmlns=\"http://www.w3.org/2000/svg\" height=\"24px\"viewBox=\"0 0 24 24\"\n",
              "       width=\"24px\">\n",
              "    <path d=\"M0 0h24v24H0V0z\" fill=\"none\"/>\n",
              "    <path d=\"M18.56 5.44l.94 2.06.94-2.06 2.06-.94-2.06-.94-.94-2.06-.94 2.06-2.06.94zm-11 1L8.5 8.5l.94-2.06 2.06-.94-2.06-.94L8.5 2.5l-.94 2.06-2.06.94zm10 10l.94 2.06.94-2.06 2.06-.94-2.06-.94-.94-2.06-.94 2.06-2.06.94z\"/><path d=\"M17.41 7.96l-1.37-1.37c-.4-.4-.92-.59-1.43-.59-.52 0-1.04.2-1.43.59L10.3 9.45l-7.72 7.72c-.78.78-.78 2.05 0 2.83L4 21.41c.39.39.9.59 1.41.59.51 0 1.02-.2 1.41-.59l7.78-7.78 2.81-2.81c.8-.78.8-2.07 0-2.86zM5.41 20L4 18.59l7.72-7.72 1.47 1.35L5.41 20z\"/>\n",
              "  </svg>\n",
              "      </button>\n",
              "      \n",
              "  <style>\n",
              "    .colab-df-container {\n",
              "      display:flex;\n",
              "      flex-wrap:wrap;\n",
              "      gap: 12px;\n",
              "    }\n",
              "\n",
              "    .colab-df-convert {\n",
              "      background-color: #E8F0FE;\n",
              "      border: none;\n",
              "      border-radius: 50%;\n",
              "      cursor: pointer;\n",
              "      display: none;\n",
              "      fill: #1967D2;\n",
              "      height: 32px;\n",
              "      padding: 0 0 0 0;\n",
              "      width: 32px;\n",
              "    }\n",
              "\n",
              "    .colab-df-convert:hover {\n",
              "      background-color: #E2EBFA;\n",
              "      box-shadow: 0px 1px 2px rgba(60, 64, 67, 0.3), 0px 1px 3px 1px rgba(60, 64, 67, 0.15);\n",
              "      fill: #174EA6;\n",
              "    }\n",
              "\n",
              "    [theme=dark] .colab-df-convert {\n",
              "      background-color: #3B4455;\n",
              "      fill: #D2E3FC;\n",
              "    }\n",
              "\n",
              "    [theme=dark] .colab-df-convert:hover {\n",
              "      background-color: #434B5C;\n",
              "      box-shadow: 0px 1px 3px 1px rgba(0, 0, 0, 0.15);\n",
              "      filter: drop-shadow(0px 1px 2px rgba(0, 0, 0, 0.3));\n",
              "      fill: #FFFFFF;\n",
              "    }\n",
              "  </style>\n",
              "\n",
              "      <script>\n",
              "        const buttonEl =\n",
              "          document.querySelector('#df-f8dfbf27-906f-4c29-99f8-d83330f8e5f9 button.colab-df-convert');\n",
              "        buttonEl.style.display =\n",
              "          google.colab.kernel.accessAllowed ? 'block' : 'none';\n",
              "\n",
              "        async function convertToInteractive(key) {\n",
              "          const element = document.querySelector('#df-f8dfbf27-906f-4c29-99f8-d83330f8e5f9');\n",
              "          const dataTable =\n",
              "            await google.colab.kernel.invokeFunction('convertToInteractive',\n",
              "                                                     [key], {});\n",
              "          if (!dataTable) return;\n",
              "\n",
              "          const docLinkHtml = 'Like what you see? Visit the ' +\n",
              "            '<a target=\"_blank\" href=https://colab.research.google.com/notebooks/data_table.ipynb>data table notebook</a>'\n",
              "            + ' to learn more about interactive tables.';\n",
              "          element.innerHTML = '';\n",
              "          dataTable['output_type'] = 'display_data';\n",
              "          await google.colab.output.renderOutput(dataTable, element);\n",
              "          const docLink = document.createElement('div');\n",
              "          docLink.innerHTML = docLinkHtml;\n",
              "          element.appendChild(docLink);\n",
              "        }\n",
              "      </script>\n",
              "    </div>\n",
              "  </div>\n",
              "  "
            ]
          },
          "metadata": {},
          "execution_count": 106
        }
      ]
    }
  ],
  "metadata": {
    "accelerator": "GPU",
    "colab": {
      "provenance": [],
      "gpuType": "T4",
      "include_colab_link": true
    },
    "gpuClass": "standard",
    "kernelspec": {
      "display_name": "Python 3",
      "name": "python3"
    },
    "language_info": {
      "name": "python"
    }
  },
  "nbformat": 4,
  "nbformat_minor": 0
}